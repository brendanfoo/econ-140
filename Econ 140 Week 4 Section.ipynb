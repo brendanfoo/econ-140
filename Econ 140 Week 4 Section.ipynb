{
 "cells": [
  {
   "cell_type": "markdown",
   "id": "8eb75dfc",
   "metadata": {},
   "source": [
    "# ECON 140R - Regression and Omitted Variable Bias"
   ]
  },
  {
   "cell_type": "code",
   "execution_count": null,
   "id": "0452d551",
   "metadata": {},
   "outputs": [],
   "source": [
    "#imports\n",
    "library(tidyverse)\n",
    "library(haven)\n",
    "library(dplyr)\n",
    "library(repr)\n",
    "library(stargazer)\n",
    "library(pander)"
   ]
  },
  {
   "cell_type": "markdown",
   "id": "bc7d378f",
   "metadata": {},
   "source": [
    "# Part 1: Introduction\n",
    "\n",
    "<h2>Learning Objectives</h2>\n",
    "\n",
    "* Perform EDA on a dataset\n",
    "* Run an ordinary least squares (OLS) regression $y_i = \\alpha + \\beta \\ D_i + \\epsilon_i$ using `lm()`\n",
    "* Understand Ommited Variable Bias Formula\n",
    "* Add more controls to the regression\n",
    "\n",
    "__Some references for deeper dive:__ \n",
    "1. [Linear Regression with One Regressor](https://www.econometrics-with-r.org/4-lrwor.html)\n",
    "2. [Regression Models with Multiple Regressors](https://www.econometrics-with-r.org/6-rmwmr.html)\n",
    "\n",
    "<h2>Data</h2>\n",
    "\n",
    "We will analyze an extract of 534 observations from the 1985 Current Population Survey (CPS) to explore how hourly wages differ among men and women with similar observed characteristics.\n",
    "\n",
    "__Source__: http://data.princeton.edu/wws509/datasets/wages.dta\n",
    "\n",
    "__Columns__:\n",
    "\n",
    "1. `education`: years of education\n",
    "2. `south`: indicator for southern states \n",
    "3. `female`: indicator for females\n",
    "4. `workexp`: years of work experience \n",
    "5. `unionmember`: indicator of union membership\n",
    "6. `wages`: the hourly wage in dollars\n",
    "7. `age`: age \n",
    "7. `ethnicity`: ethnicity (coded 1=other, 2=hispanic, 3=white)\n",
    "8. `occupation`: occupation (coded 1=management, 2=sales, 3=clerical, 4=service, 5=professional, 6=other)\n",
    "9. `sector`: sector (coded 0=other, 1=manufacturing, 2=construction)\n",
    "10. `married`: indicator for married respondents.\n"
   ]
  },
  {
   "cell_type": "code",
   "execution_count": null,
   "id": "15b267d7",
   "metadata": {},
   "outputs": [],
   "source": [
    "#read the dataset\n",
    "wages_df <- read_dta(\"http://data.princeton.edu/wws509/datasets/wages.dta\")"
   ]
  },
  {
   "cell_type": "markdown",
   "id": "9a04f557",
   "metadata": {},
   "source": [
    "# Part 2: EDA\n",
    "\n",
    "Let us explore the data and answer the following questions:\n",
    "\n",
    "* How many observations are there in the dataset?\n",
    "* How many variables are there in the dataset?\n",
    "* What proportion of the data is male?\n",
    "* What is the average monthly wage in the data?\n",
    "* What does the distribution of the variables look like?\n",
    "* Is there a correlation between wage and being female?\n",
    "\n",
    "## Inital exploration of the dataset"
   ]
  },
  {
   "cell_type": "code",
   "execution_count": null,
   "id": "ca6bed7f",
   "metadata": {},
   "outputs": [],
   "source": [
    "#display the top 5 rows\n",
    "head(wages_df)"
   ]
  },
  {
   "cell_type": "code",
   "execution_count": null,
   "id": "91645676",
   "metadata": {},
   "outputs": [],
   "source": [
    "#display the dimensions of the dataset\n",
    "dim(wages_df)"
   ]
  },
  {
   "cell_type": "markdown",
   "id": "8ce3b0d4",
   "metadata": {},
   "source": [
    "__Checking for NULL values__"
   ]
  },
  {
   "cell_type": "code",
   "execution_count": null,
   "id": "d715e6cf",
   "metadata": {},
   "outputs": [],
   "source": [
    "#one way to check for nulls\n",
    "wages_df[!complete.cases(wages_df),]"
   ]
  },
  {
   "cell_type": "code",
   "execution_count": null,
   "id": "26fc0a5f",
   "metadata": {},
   "outputs": [],
   "source": [
    "#another way to check for nulls\n",
    "wages_df[!rowSums(is.na(wages_df))==0,]"
   ]
  },
  {
   "cell_type": "markdown",
   "id": "bb39899e",
   "metadata": {},
   "source": [
    "__Proportion of males in the dataset__"
   ]
  },
  {
   "cell_type": "code",
   "execution_count": null,
   "id": "7305a65d",
   "metadata": {},
   "outputs": [],
   "source": [
    "# what is the proportion of males in dataset? \n",
    "male_proportion ="
   ]
  },
  {
   "cell_type": "markdown",
   "id": "8e7b559a",
   "metadata": {},
   "source": [
    "## 5 number summary of the dataset"
   ]
  },
  {
   "cell_type": "code",
   "execution_count": null,
   "id": "0add55fc",
   "metadata": {},
   "outputs": [],
   "source": [
    "#print the 5 number summary for each column\n",
    "pander(summary(wages_df))"
   ]
  },
  {
   "cell_type": "code",
   "execution_count": null,
   "id": "bdf748d7",
   "metadata": {},
   "outputs": [],
   "source": [
    "#print the 5 number summary for wages\n",
    "summary(wages_df$wages)"
   ]
  },
  {
   "cell_type": "markdown",
   "id": "d8e34658",
   "metadata": {},
   "source": [
    "## Histograms\n",
    "\n",
    "Generate histograms for:\n",
    "\n",
    "    1. wages\n",
    "    2. natural logarithm of wages\n",
    "    3. education\n",
    "    4. age\n",
    "\n",
    "What do you observe about each of these distributions?"
   ]
  },
  {
   "cell_type": "code",
   "execution_count": null,
   "id": "0d152927",
   "metadata": {},
   "outputs": [],
   "source": [
    "#control formatting options for plot width and height\n",
    "options(repr.plot.width=10, repr.plot.height=10)"
   ]
  },
  {
   "cell_type": "markdown",
   "id": "d8ef6b68",
   "metadata": {},
   "source": [
    "__1. Wage__"
   ]
  },
  {
   "cell_type": "code",
   "execution_count": null,
   "id": "7b576047",
   "metadata": {},
   "outputs": [],
   "source": [
    "#histogram for wage\n",
    "hist(wages_df$wages)"
   ]
  },
  {
   "cell_type": "markdown",
   "id": "7159aa25",
   "metadata": {},
   "source": [
    "__2. Natural log of wages__"
   ]
  },
  {
   "cell_type": "code",
   "execution_count": null,
   "id": "6022273f",
   "metadata": {},
   "outputs": [],
   "source": [
    "#take the log of wages\n",
    "hist(log(wages_df$wages))"
   ]
  },
  {
   "cell_type": "markdown",
   "id": "8ab4ee26",
   "metadata": {},
   "source": [
    "**Comment on the difference between the two histograms.**"
   ]
  },
  {
   "cell_type": "markdown",
   "id": "ccffa23a",
   "metadata": {},
   "source": [
    "write here"
   ]
  },
  {
   "cell_type": "markdown",
   "id": "2d882473",
   "metadata": {},
   "source": [
    "__3. Education__"
   ]
  },
  {
   "cell_type": "code",
   "execution_count": null,
   "id": "1bab0f2b",
   "metadata": {},
   "outputs": [],
   "source": [
    "#histogram of education\n",
    "hist(wages_df$education)"
   ]
  },
  {
   "cell_type": "markdown",
   "id": "0f54156a",
   "metadata": {},
   "source": [
    "__4. Age__"
   ]
  },
  {
   "cell_type": "code",
   "execution_count": null,
   "id": "6f552866",
   "metadata": {},
   "outputs": [],
   "source": [
    "#histogram of age\n",
    "hist(wages_df$age)"
   ]
  },
  {
   "cell_type": "markdown",
   "id": "8217fe56",
   "metadata": {},
   "source": [
    "## Part 3: Fit a univariate linear model\n",
    "\n",
    "Now let's run an OLS regression between wages and female.\n",
    "\n",
    "$$\n",
    "explained_i = \\alpha + \\beta \\ explanatory_i + \\epsilon_i\\\\\n",
    "wages_i = \\alpha + \\beta \\ female_i + \\epsilon_i\n",
    "$$"
   ]
  },
  {
   "cell_type": "code",
   "execution_count": null,
   "id": "94e2126c",
   "metadata": {},
   "outputs": [],
   "source": [
    "short_regression <- \n",
    "summary(short_regression)"
   ]
  },
  {
   "cell_type": "markdown",
   "id": "24e5c0ae",
   "metadata": {},
   "source": [
    "## Interpretation of coefficients:\n",
    "\n",
    "Let us interpret this regression output. \n",
    "    \n",
    "__Reference:__ [Quick Guide: Interpreting Simple Linear Model Output in R](https://feliperego.github.io/blog/2015/10/23/Interpreting-Model-Output-In-R)"
   ]
  },
  {
   "cell_type": "markdown",
   "id": "073de21e",
   "metadata": {},
   "source": [
    "**How would you interpret this intercept?**"
   ]
  },
  {
   "cell_type": "markdown",
   "id": "7f9dc053",
   "metadata": {},
   "source": [
    "write here"
   ]
  },
  {
   "cell_type": "markdown",
   "id": "74bcd94a",
   "metadata": {},
   "source": [
    "**What is the meaning of the coefficient on `female`?**"
   ]
  },
  {
   "cell_type": "markdown",
   "id": "bd92350b",
   "metadata": {},
   "source": [
    "write here"
   ]
  },
  {
   "cell_type": "markdown",
   "id": "cc6b76cd",
   "metadata": {},
   "source": [
    "**Define the following:**"
   ]
  },
  {
   "cell_type": "markdown",
   "id": "5e6b02f1",
   "metadata": {},
   "source": [
    "**Standard error:** write here\n",
    "\n",
    "**t-statistic:** write here\n",
    "\n",
    "**p-value:** write here"
   ]
  },
  {
   "cell_type": "markdown",
   "id": "a5778340",
   "metadata": {},
   "source": [
    "**Using the p-value, is our `female` variable statistically significant? Can you interpret the coefficient as the \"gender wage gap\"?**"
   ]
  },
  {
   "cell_type": "markdown",
   "id": "02900d25",
   "metadata": {},
   "source": [
    "write here"
   ]
  },
  {
   "cell_type": "markdown",
   "id": "e1d67ef2",
   "metadata": {},
   "source": [
    "# Part 4: Multiple Regression and Omitted Variable Bias\n",
    "\n",
    "Since we also have `unionmember` in our dataset, let us use it. Do you think union membership might be an \"omitted variable\"?\n",
    "\n",
    "**How does our estimate of the \"gender wage gap\" change if we include `unionmember` as an additional variable in the regression?** \n",
    "\n",
    "Let us define the new equation as:\n",
    "\n",
    "$$\n",
    "wages_i = \\alpha + \\beta \\ female_i + \\gamma \\ unionmember_i + \\epsilon_i\n",
    "$$\n",
    "\n",
    "Where $\\gamma \\ unionmember_i$ is defined as the control term.\n",
    "\n",
    "**Note that the control term and the control group are different**"
   ]
  },
  {
   "cell_type": "code",
   "execution_count": null,
   "id": "c3f474a1",
   "metadata": {},
   "outputs": [],
   "source": [
    "full_regression = \n",
    "summary(full_regression)"
   ]
  },
  {
   "cell_type": "markdown",
   "id": "283eafac",
   "metadata": {},
   "source": [
    "## Interpretation of coefficients:\n",
    "\n",
    "Let us interpret the full regression output. "
   ]
  },
  {
   "cell_type": "markdown",
   "id": "23f91921",
   "metadata": {},
   "source": [
    "**What is the meaning of the intercept?**"
   ]
  },
  {
   "cell_type": "markdown",
   "id": "55831275",
   "metadata": {},
   "source": [
    "write here"
   ]
  },
  {
   "cell_type": "markdown",
   "id": "9ce78028",
   "metadata": {},
   "source": [
    "**What is the meaning of the coefficient on `female`?**"
   ]
  },
  {
   "cell_type": "markdown",
   "id": "cecd5d36",
   "metadata": {},
   "source": [
    "write here"
   ]
  },
  {
   "cell_type": "markdown",
   "id": "1eb1cfa1",
   "metadata": {},
   "source": [
    "**What is the meaning of the coefficient on `unionmember`?**"
   ]
  },
  {
   "cell_type": "markdown",
   "id": "0b98ea16",
   "metadata": {},
   "source": [
    "write here"
   ]
  },
  {
   "cell_type": "markdown",
   "id": "86a54b44",
   "metadata": {},
   "source": [
    "## The OVB formula\n",
    "\n",
    "Call the simple observational model the <b>short regression</b>\n",
    "\n",
    "$$\n",
    "wages_i = \\alpha^s + \\beta^s \\ female_i + \\epsilon^s_i\n",
    "$$\n",
    "\n",
    "while the model with union membership $\\gamma$ (when $unionmember_i = 1$) will be the <b>long regression</b> because it includes one more right-hand side variable\n",
    "\n",
    "$$\n",
    "wages_i = \\alpha^l + \\beta^l \\ female_i + \\gamma \\ unionmember_i + \\epsilon^l_i\n",
    "$$\n",
    "\n",
    "We can formally define omitted variable bias as the difference between these two estimates of the \"effect\" of $female_i$ on $wages_i$: \n",
    "\n",
    "$$\n",
    "OVB = \\beta^s - \\beta^l\n",
    "$$\n",
    "\n",
    "To decompose $OVB = \\beta^s - \\beta^l$ into parts that are conceptually easier to think about, we need a third regression, often called an <b>auxiliary regression</b>, which models the relationship between the omitted variable, $unionmemebr_i$, and the treatment variable, $female_i$. The auxiliary regression here is:\n",
    "\n",
    "$$\n",
    "unionmember_i = \\pi_0 + \\pi_1 \\ female_i + u_i\n",
    "$$\n",
    "\n",
    "If this is the case, then the omitted variable bias in the short regression must be given by:\n",
    "\n",
    "$$\n",
    "OVB = \\beta^s - \\beta^l = \\pi_1 \\times \\gamma\n",
    "$$\n",
    "\n",
    "The above relation is __ALWAYS__ true.\n",
    "\n",
    "We saw above that our estimate of the gender wage gap has become smaller once we control for union membership. \n",
    "\n",
    "\n",
    "To formally investigate how the estimate for one coefficient changes if we include more variables in the regression, let's revisit the three relevant regression equations.\n",
    "\n",
    "* 1: __Full regression:__ Include female and unionmember\n",
    "* 2: __Short (biased) regression:__ Include female only\n",
    "* 3: __Auxiliary regression:__ Regress unionmember on female"
   ]
  },
  {
   "cell_type": "markdown",
   "id": "efee9232",
   "metadata": {},
   "source": [
    "**What is the biased quantitative estimate of `female`?**"
   ]
  },
  {
   "cell_type": "code",
   "execution_count": null,
   "id": "96e18330",
   "metadata": {},
   "outputs": [],
   "source": [
    "biased_coefficient = \n",
    "biased_coefficient"
   ]
  },
  {
   "cell_type": "markdown",
   "id": "a5dbe19a",
   "metadata": {},
   "source": [
    "**What is the quantitative estimate of the omitted variable `unionmember`?**"
   ]
  },
  {
   "cell_type": "code",
   "execution_count": null,
   "id": "879cdaa3",
   "metadata": {},
   "outputs": [],
   "source": [
    "omitted_coefficient = \n",
    "omitted_coefficient"
   ]
  },
  {
   "cell_type": "markdown",
   "id": "131d4cb8",
   "metadata": {},
   "source": [
    "**What is the true quantitative estimate of `female`?**"
   ]
  },
  {
   "cell_type": "code",
   "execution_count": null,
   "id": "e1293e83",
   "metadata": {},
   "outputs": [],
   "source": [
    "true_coefficient = \n",
    "true_coefficient"
   ]
  },
  {
   "cell_type": "markdown",
   "id": "1b4957a7",
   "metadata": {},
   "source": [
    "**Run an auxiliary regression between the variables 'unionmember' and 'female'**"
   ]
  },
  {
   "cell_type": "code",
   "execution_count": null,
   "id": "306346a7",
   "metadata": {},
   "outputs": [],
   "source": [
    "auxiliary_regression =\n",
    "summary(auxiliary_regression)"
   ]
  },
  {
   "cell_type": "markdown",
   "id": "370d7c9a",
   "metadata": {},
   "source": [
    "**What is the quantitative estimate of `female` in the auxillary regression?**"
   ]
  },
  {
   "cell_type": "code",
   "execution_count": null,
   "id": "fe10e493",
   "metadata": {},
   "outputs": [],
   "source": [
    "auxillary_coefficient = \n",
    "auxillary_coefficient"
   ]
  },
  {
   "cell_type": "markdown",
   "id": "cf3680d9",
   "metadata": {},
   "source": [
    "**Recall the equation to calculate omitted variable bias. Now, looking at all our regression tables, calculate the quantitative estimate of the omitted variable bias?**"
   ]
  },
  {
   "cell_type": "code",
   "execution_count": null,
   "id": "a6ce90f5",
   "metadata": {},
   "outputs": [],
   "source": [
    "omitted_variable_bias = \n",
    "omitted_variable_bias"
   ]
  },
  {
   "cell_type": "markdown",
   "id": "d9ef18e0",
   "metadata": {},
   "source": [
    "# Part 5: Control for more variables\n",
    "\n",
    "Your turn!\n",
    "\n",
    "1. Fit a linear model to explore how hourly wages depend on education, work experience, union membership, region, and sex.\n",
    "\n",
    "2. Describe the net effects of education, work experience, union membership, and region on wages.\n",
    "\n",
    "3. Describe the gender gap after adjusting for the effects of the other variables in the model, and test its significance."
   ]
  },
  {
   "cell_type": "code",
   "execution_count": null,
   "id": "57761888",
   "metadata": {},
   "outputs": [],
   "source": []
  },
  {
   "cell_type": "markdown",
   "id": "83ff3e8c",
   "metadata": {},
   "source": [
    "# Part 6: What if we wanted to control for occupation\n",
    "\n",
    "1. What type of variable is occupation?\n",
    "\n",
    "2. What would happen if we use it directly in `lm()`?"
   ]
  },
  {
   "cell_type": "code",
   "execution_count": null,
   "id": "59daf89c",
   "metadata": {},
   "outputs": [],
   "source": [
    "#recode variables\n",
    "wages_df$occup_management <- ifelse(wages_df$occupation == 1, 1, 0)"
   ]
  },
  {
   "cell_type": "markdown",
   "id": "86e9e0c5",
   "metadata": {},
   "source": [
    "# Bonus: Using `stargazer` to present regression outputs as a table\n",
    "\n",
    "Reference: [stargazer](https://cran.r-project.org/web/packages/stargazer/vignettes/stargazer.pdf)"
   ]
  },
  {
   "cell_type": "code",
   "execution_count": null,
   "id": "62f1e970",
   "metadata": {},
   "outputs": [],
   "source": [
    "stargazer(short_regression, full_regression, type = \"text\", title = \"Gender Wage Gap\")"
   ]
  }
 ],
 "metadata": {
  "kernelspec": {
   "display_name": "R",
   "language": "R",
   "name": "ir"
  },
  "language_info": {
   "codemirror_mode": "r",
   "file_extension": ".r",
   "mimetype": "text/x-r-source",
   "name": "R",
   "pygments_lexer": "r",
   "version": "4.3.1"
  }
 },
 "nbformat": 4,
 "nbformat_minor": 5
}
