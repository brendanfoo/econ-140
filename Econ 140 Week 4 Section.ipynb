{
 "cells": [
  {
   "cell_type": "markdown",
   "id": "8eb75dfc",
   "metadata": {},
   "source": [
    "# ECON 140R - Regression and Omitted Variable Bias"
   ]
  },
  {
   "cell_type": "code",
   "execution_count": 1,
   "id": "b7702f2c",
   "metadata": {},
   "outputs": [
    {
     "name": "stderr",
     "output_type": "stream",
     "text": [
      "── \u001b[1mAttaching packages\u001b[22m ─────────────────────────────────────── tidyverse 1.3.0 ──\n",
      "\n",
      "\u001b[32m✔\u001b[39m \u001b[34mggplot2\u001b[39m 3.3.6      \u001b[32m✔\u001b[39m \u001b[34mpurrr  \u001b[39m 0.3.4 \n",
      "\u001b[32m✔\u001b[39m \u001b[34mtibble \u001b[39m 3.1.8      \u001b[32m✔\u001b[39m \u001b[34mdplyr  \u001b[39m 1.0.10\n",
      "\u001b[32m✔\u001b[39m \u001b[34mtidyr  \u001b[39m 1.2.1      \u001b[32m✔\u001b[39m \u001b[34mstringr\u001b[39m 1.4.1 \n",
      "\u001b[32m✔\u001b[39m \u001b[34mreadr  \u001b[39m 2.1.2      \u001b[32m✔\u001b[39m \u001b[34mforcats\u001b[39m 0.5.2 \n",
      "\n",
      "── \u001b[1mConflicts\u001b[22m ────────────────────────────────────────── tidyverse_conflicts() ──\n",
      "\u001b[31m✖\u001b[39m \u001b[34mdplyr\u001b[39m::\u001b[32mfilter()\u001b[39m masks \u001b[34mstats\u001b[39m::filter()\n",
      "\u001b[31m✖\u001b[39m \u001b[34mdplyr\u001b[39m::\u001b[32mlag()\u001b[39m    masks \u001b[34mstats\u001b[39m::lag()\n",
      "\n",
      "\n",
      "Please cite as: \n",
      "\n",
      "\n",
      " Hlavac, Marek (2018). stargazer: Well-Formatted Regression and Summary Statistics Tables.\n",
      "\n",
      " R package version 5.2.2. https://CRAN.R-project.org/package=stargazer \n",
      "\n",
      "\n"
     ]
    }
   ],
   "source": [
    "#imports\n",
    "library(tidyverse)\n",
    "library(haven)\n",
    "library(dplyr)\n",
    "library(repr)\n",
    "library(stargazer)\n",
    "library(pander)"
   ]
  },
  {
   "cell_type": "markdown",
   "id": "bc7d378f",
   "metadata": {},
   "source": [
    "# Part 1: Introduction\n",
    "\n",
    "<h2>Learning Objectives</h2>\n",
    "\n",
    "* Perform EDA on a dataset\n",
    "* Run an ordinary least squares (OLS) regression $y_i = \\alpha + \\beta \\ D_i + \\epsilon_i$ using `lm()`\n",
    "* Understand Ommited Variable Bias Formula\n",
    "* Add more controls to the regression\n",
    "\n",
    "__Some references for deeper dive:__ \n",
    "1. [Linear Regression with One Regressor](https://www.econometrics-with-r.org/4-lrwor.html)\n",
    "2. [Regression Models with Multiple Regressors](https://www.econometrics-with-r.org/6-rmwmr.html)\n",
    "\n",
    "<h2>Data</h2>\n",
    "\n",
    "We will analyze an extract of 534 observations from the 1985 Current Population Survey (CPS) to explore how hourly wages differ among men and women with similar observed characteristics.\n",
    "\n",
    "__Source__: http://data.princeton.edu/wws509/datasets/wages.dta\n",
    "\n",
    "__Columns__:\n",
    "\n",
    "1. `education`: years of education\n",
    "2. `south`: indicator for southern states \n",
    "3. `female`: indicator for females\n",
    "4. `workexp`: years of work experience \n",
    "5. `unionmember`: indicator of union membership\n",
    "6. `wages`: the hourly wage in dollars\n",
    "7. `age`: age \n",
    "7. `ethnicity`: ethnicity (coded 1=other, 2=hispanic, 3=white)\n",
    "8. `occupation`: occupation (coded 1=management, 2=sales, 3=clerical, 4=service, 5=professional, 6=other)\n",
    "9. `sector`: sector (coded 0=other, 1=manufacturing, 2=construction)\n",
    "10. `married`: indicator for married respondents.\n"
   ]
  },
  {
   "cell_type": "code",
   "execution_count": 2,
   "id": "036f8154",
   "metadata": {},
   "outputs": [],
   "source": [
    "#read the dataset\n",
    "wages_df <- read_dta(\"http://data.princeton.edu/wws509/datasets/wages.dta\")"
   ]
  },
  {
   "cell_type": "markdown",
   "id": "9a04f557",
   "metadata": {},
   "source": [
    "# Part 2: EDA\n",
    "\n",
    "Let us explore the data and answer the following questions:\n",
    "\n",
    "* How many observations are there in the dataset?\n",
    "* How many variables are there in the dataset?\n",
    "* What proportion of the data is male?\n",
    "* What is the average monthly wage in the data?\n",
    "* What does the distribution of the variables look like?\n",
    "* Is there a correlation between wage and being female?\n",
    "\n",
    "## Inital exploration of the dataset"
   ]
  },
  {
   "cell_type": "code",
   "execution_count": 3,
   "id": "763e7835",
   "metadata": {},
   "outputs": [
    {
     "data": {
      "text/html": [
       "<table class=\"dataframe\">\n",
       "<caption>A tibble: 6 × 11</caption>\n",
       "<thead>\n",
       "\t<tr><th scope=col>education</th><th scope=col>south</th><th scope=col>female</th><th scope=col>workexp</th><th scope=col>unionmember</th><th scope=col>wages</th><th scope=col>age</th><th scope=col>ethnicity</th><th scope=col>occupation</th><th scope=col>sector</th><th scope=col>married</th></tr>\n",
       "\t<tr><th scope=col>&lt;dbl&gt;</th><th scope=col>&lt;dbl&gt;</th><th scope=col>&lt;dbl&gt;</th><th scope=col>&lt;dbl&gt;</th><th scope=col>&lt;dbl&gt;</th><th scope=col>&lt;dbl&gt;</th><th scope=col>&lt;dbl&gt;</th><th scope=col>&lt;dbl+lbl&gt;</th><th scope=col>&lt;dbl+lbl&gt;</th><th scope=col>&lt;dbl+lbl&gt;</th><th scope=col>&lt;dbl&gt;</th></tr>\n",
       "</thead>\n",
       "<tbody>\n",
       "\t<tr><td> 8</td><td>0</td><td>1</td><td>21</td><td>0</td><td> 5.10</td><td>35</td><td>2</td><td>6</td><td>1</td><td>1</td></tr>\n",
       "\t<tr><td> 9</td><td>0</td><td>1</td><td>42</td><td>0</td><td> 4.95</td><td>57</td><td>3</td><td>6</td><td>1</td><td>1</td></tr>\n",
       "\t<tr><td>12</td><td>0</td><td>0</td><td> 1</td><td>0</td><td> 6.67</td><td>19</td><td>3</td><td>6</td><td>1</td><td>0</td></tr>\n",
       "\t<tr><td>12</td><td>0</td><td>0</td><td> 4</td><td>0</td><td> 4.00</td><td>22</td><td>3</td><td>6</td><td>0</td><td>0</td></tr>\n",
       "\t<tr><td>12</td><td>0</td><td>0</td><td>17</td><td>0</td><td> 7.50</td><td>35</td><td>3</td><td>6</td><td>0</td><td>1</td></tr>\n",
       "\t<tr><td>13</td><td>0</td><td>0</td><td> 9</td><td>1</td><td>13.07</td><td>28</td><td>3</td><td>6</td><td>0</td><td>0</td></tr>\n",
       "</tbody>\n",
       "</table>\n"
      ],
      "text/latex": [
       "A tibble: 6 × 11\n",
       "\\begin{tabular}{lllllllllll}\n",
       " education & south & female & workexp & unionmember & wages & age & ethnicity & occupation & sector & married\\\\\n",
       " <dbl> & <dbl> & <dbl> & <dbl> & <dbl> & <dbl> & <dbl> & <dbl+lbl> & <dbl+lbl> & <dbl+lbl> & <dbl>\\\\\n",
       "\\hline\n",
       "\t  8 & 0 & 1 & 21 & 0 &  5.10 & 35 & 2 & 6 & 1 & 1\\\\\n",
       "\t  9 & 0 & 1 & 42 & 0 &  4.95 & 57 & 3 & 6 & 1 & 1\\\\\n",
       "\t 12 & 0 & 0 &  1 & 0 &  6.67 & 19 & 3 & 6 & 1 & 0\\\\\n",
       "\t 12 & 0 & 0 &  4 & 0 &  4.00 & 22 & 3 & 6 & 0 & 0\\\\\n",
       "\t 12 & 0 & 0 & 17 & 0 &  7.50 & 35 & 3 & 6 & 0 & 1\\\\\n",
       "\t 13 & 0 & 0 &  9 & 1 & 13.07 & 28 & 3 & 6 & 0 & 0\\\\\n",
       "\\end{tabular}\n"
      ],
      "text/markdown": [
       "\n",
       "A tibble: 6 × 11\n",
       "\n",
       "| education &lt;dbl&gt; | south &lt;dbl&gt; | female &lt;dbl&gt; | workexp &lt;dbl&gt; | unionmember &lt;dbl&gt; | wages &lt;dbl&gt; | age &lt;dbl&gt; | ethnicity &lt;dbl+lbl&gt; | occupation &lt;dbl+lbl&gt; | sector &lt;dbl+lbl&gt; | married &lt;dbl&gt; |\n",
       "|---|---|---|---|---|---|---|---|---|---|---|\n",
       "|  8 | 0 | 1 | 21 | 0 |  5.10 | 35 | 2 | 6 | 1 | 1 |\n",
       "|  9 | 0 | 1 | 42 | 0 |  4.95 | 57 | 3 | 6 | 1 | 1 |\n",
       "| 12 | 0 | 0 |  1 | 0 |  6.67 | 19 | 3 | 6 | 1 | 0 |\n",
       "| 12 | 0 | 0 |  4 | 0 |  4.00 | 22 | 3 | 6 | 0 | 0 |\n",
       "| 12 | 0 | 0 | 17 | 0 |  7.50 | 35 | 3 | 6 | 0 | 1 |\n",
       "| 13 | 0 | 0 |  9 | 1 | 13.07 | 28 | 3 | 6 | 0 | 0 |\n",
       "\n"
      ],
      "text/plain": [
       "  education south female workexp unionmember wages age ethnicity occupation\n",
       "1  8        0     1      21      0            5.10 35  2         6         \n",
       "2  9        0     1      42      0            4.95 57  3         6         \n",
       "3 12        0     0       1      0            6.67 19  3         6         \n",
       "4 12        0     0       4      0            4.00 22  3         6         \n",
       "5 12        0     0      17      0            7.50 35  3         6         \n",
       "6 13        0     0       9      1           13.07 28  3         6         \n",
       "  sector married\n",
       "1 1      1      \n",
       "2 1      1      \n",
       "3 1      0      \n",
       "4 0      0      \n",
       "5 0      1      \n",
       "6 0      0      "
      ]
     },
     "metadata": {},
     "output_type": "display_data"
    }
   ],
   "source": [
    "#display the top 5 rows\n",
    "head(wages_df)"
   ]
  },
  {
   "cell_type": "code",
   "execution_count": 4,
   "id": "61e88667",
   "metadata": {},
   "outputs": [
    {
     "data": {
      "text/html": [
       "<style>\n",
       ".list-inline {list-style: none; margin:0; padding: 0}\n",
       ".list-inline>li {display: inline-block}\n",
       ".list-inline>li:not(:last-child)::after {content: \"\\00b7\"; padding: 0 .5ex}\n",
       "</style>\n",
       "<ol class=list-inline><li>534</li><li>11</li></ol>\n"
      ],
      "text/latex": [
       "\\begin{enumerate*}\n",
       "\\item 534\n",
       "\\item 11\n",
       "\\end{enumerate*}\n"
      ],
      "text/markdown": [
       "1. 534\n",
       "2. 11\n",
       "\n",
       "\n"
      ],
      "text/plain": [
       "[1] 534  11"
      ]
     },
     "metadata": {},
     "output_type": "display_data"
    }
   ],
   "source": [
    "#display the dimensions of the dataset\n",
    "dim(wages_df)"
   ]
  },
  {
   "cell_type": "markdown",
   "id": "8ce3b0d4",
   "metadata": {},
   "source": [
    "__Checking for NULL values__"
   ]
  },
  {
   "cell_type": "code",
   "execution_count": 5,
   "id": "5be176ab",
   "metadata": {},
   "outputs": [
    {
     "data": {
      "text/html": [
       "<table class=\"dataframe\">\n",
       "<caption>A tibble: 0 × 11</caption>\n",
       "<thead>\n",
       "\t<tr><th scope=col>education</th><th scope=col>south</th><th scope=col>female</th><th scope=col>workexp</th><th scope=col>unionmember</th><th scope=col>wages</th><th scope=col>age</th><th scope=col>ethnicity</th><th scope=col>occupation</th><th scope=col>sector</th><th scope=col>married</th></tr>\n",
       "\t<tr><th scope=col>&lt;dbl&gt;</th><th scope=col>&lt;dbl&gt;</th><th scope=col>&lt;dbl&gt;</th><th scope=col>&lt;dbl&gt;</th><th scope=col>&lt;dbl&gt;</th><th scope=col>&lt;dbl&gt;</th><th scope=col>&lt;dbl&gt;</th><th scope=col>&lt;dbl+lbl&gt;</th><th scope=col>&lt;dbl+lbl&gt;</th><th scope=col>&lt;dbl+lbl&gt;</th><th scope=col>&lt;dbl&gt;</th></tr>\n",
       "</thead>\n",
       "<tbody>\n",
       "</tbody>\n",
       "</table>\n"
      ],
      "text/latex": [
       "A tibble: 0 × 11\n",
       "\\begin{tabular}{lllllllllll}\n",
       " education & south & female & workexp & unionmember & wages & age & ethnicity & occupation & sector & married\\\\\n",
       " <dbl> & <dbl> & <dbl> & <dbl> & <dbl> & <dbl> & <dbl> & <dbl+lbl> & <dbl+lbl> & <dbl+lbl> & <dbl>\\\\\n",
       "\\hline\n",
       "\\end{tabular}\n"
      ],
      "text/markdown": [
       "\n",
       "A tibble: 0 × 11\n",
       "\n",
       "| education &lt;dbl&gt; | south &lt;dbl&gt; | female &lt;dbl&gt; | workexp &lt;dbl&gt; | unionmember &lt;dbl&gt; | wages &lt;dbl&gt; | age &lt;dbl&gt; | ethnicity &lt;dbl+lbl&gt; | occupation &lt;dbl+lbl&gt; | sector &lt;dbl+lbl&gt; | married &lt;dbl&gt; |\n",
       "|---|---|---|---|---|---|---|---|---|---|---|\n",
       "\n"
      ],
      "text/plain": [
       "     education south female workexp unionmember wages age ethnicity occupation\n",
       "     sector married"
      ]
     },
     "metadata": {},
     "output_type": "display_data"
    }
   ],
   "source": [
    "#one way to check for nulls\n",
    "wages_df[!complete.cases(wages_df),]"
   ]
  },
  {
   "cell_type": "code",
   "execution_count": 6,
   "id": "597ae1af",
   "metadata": {},
   "outputs": [
    {
     "data": {
      "text/html": [
       "<table class=\"dataframe\">\n",
       "<caption>A tibble: 0 × 11</caption>\n",
       "<thead>\n",
       "\t<tr><th scope=col>education</th><th scope=col>south</th><th scope=col>female</th><th scope=col>workexp</th><th scope=col>unionmember</th><th scope=col>wages</th><th scope=col>age</th><th scope=col>ethnicity</th><th scope=col>occupation</th><th scope=col>sector</th><th scope=col>married</th></tr>\n",
       "\t<tr><th scope=col>&lt;dbl&gt;</th><th scope=col>&lt;dbl&gt;</th><th scope=col>&lt;dbl&gt;</th><th scope=col>&lt;dbl&gt;</th><th scope=col>&lt;dbl&gt;</th><th scope=col>&lt;dbl&gt;</th><th scope=col>&lt;dbl&gt;</th><th scope=col>&lt;dbl+lbl&gt;</th><th scope=col>&lt;dbl+lbl&gt;</th><th scope=col>&lt;dbl+lbl&gt;</th><th scope=col>&lt;dbl&gt;</th></tr>\n",
       "</thead>\n",
       "<tbody>\n",
       "</tbody>\n",
       "</table>\n"
      ],
      "text/latex": [
       "A tibble: 0 × 11\n",
       "\\begin{tabular}{lllllllllll}\n",
       " education & south & female & workexp & unionmember & wages & age & ethnicity & occupation & sector & married\\\\\n",
       " <dbl> & <dbl> & <dbl> & <dbl> & <dbl> & <dbl> & <dbl> & <dbl+lbl> & <dbl+lbl> & <dbl+lbl> & <dbl>\\\\\n",
       "\\hline\n",
       "\\end{tabular}\n"
      ],
      "text/markdown": [
       "\n",
       "A tibble: 0 × 11\n",
       "\n",
       "| education &lt;dbl&gt; | south &lt;dbl&gt; | female &lt;dbl&gt; | workexp &lt;dbl&gt; | unionmember &lt;dbl&gt; | wages &lt;dbl&gt; | age &lt;dbl&gt; | ethnicity &lt;dbl+lbl&gt; | occupation &lt;dbl+lbl&gt; | sector &lt;dbl+lbl&gt; | married &lt;dbl&gt; |\n",
       "|---|---|---|---|---|---|---|---|---|---|---|\n",
       "\n"
      ],
      "text/plain": [
       "     education south female workexp unionmember wages age ethnicity occupation\n",
       "     sector married"
      ]
     },
     "metadata": {},
     "output_type": "display_data"
    }
   ],
   "source": [
    "#another way to check for nulls\n",
    "wages_df[!rowSums(is.na(wages_df))==0,]"
   ]
  },
  {
   "cell_type": "markdown",
   "id": "bb39899e",
   "metadata": {},
   "source": [
    "__Proportion of males in the dataset__"
   ]
  },
  {
   "cell_type": "code",
   "execution_count": 7,
   "id": "1969fa30",
   "metadata": {},
   "outputs": [
    {
     "data": {
      "text/html": [
       "54.1198501872659"
      ],
      "text/latex": [
       "54.1198501872659"
      ],
      "text/markdown": [
       "54.1198501872659"
      ],
      "text/plain": [
       "[1] 54.11985"
      ]
     },
     "metadata": {},
     "output_type": "display_data"
    }
   ],
   "source": [
    "## what is the proportion of males in dataset? \n",
    "(1 - mean(wages_df$female))*100"
   ]
  },
  {
   "cell_type": "markdown",
   "id": "8e7b559a",
   "metadata": {},
   "source": [
    "## 5 number summary of the dataset"
   ]
  },
  {
   "cell_type": "code",
   "execution_count": 8,
   "id": "9b2667a8",
   "metadata": {},
   "outputs": [
    {
     "name": "stdout",
     "output_type": "stream",
     "text": [
      "\n",
      "\n",
      "|   education   |     south      |     female     |    workexp    |\n",
      "|:-------------:|:--------------:|:--------------:|:-------------:|\n",
      "| Min.   : 2.00 | Min.   :0.0000 | Min.   :0.0000 | Min.   : 0.00 |\n",
      "| 1st Qu.:12.00 | 1st Qu.:0.0000 | 1st Qu.:0.0000 | 1st Qu.: 8.00 |\n",
      "| Median :12.00 | Median :0.0000 | Median :0.0000 | Median :15.00 |\n",
      "| Mean   :13.02 | Mean   :0.2921 | Mean   :0.4588 | Mean   :17.82 |\n",
      "| 3rd Qu.:15.00 | 3rd Qu.:1.0000 | 3rd Qu.:1.0000 | 3rd Qu.:26.00 |\n",
      "| Max.   :18.00 | Max.   :1.0000 | Max.   :1.0000 | Max.   :55.00 |\n",
      "\n",
      "Table: Table continues below\n",
      "\n",
      " \n",
      "\n",
      "|  unionmember   |     wages      |      age      |   ethnicity   |\n",
      "|:--------------:|:--------------:|:-------------:|:-------------:|\n",
      "| Min.   :0.0000 | Min.   : 1.000 | Min.   :18.00 | Min.   :1.000 |\n",
      "| 1st Qu.:0.0000 | 1st Qu.: 5.250 | 1st Qu.:28.00 | 1st Qu.:3.000 |\n",
      "| Median :0.0000 | Median : 7.780 | Median :35.00 | Median :3.000 |\n",
      "| Mean   :0.1798 | Mean   : 9.024 | Mean   :36.83 | Mean   :2.699 |\n",
      "| 3rd Qu.:0.0000 | 3rd Qu.:11.250 | 3rd Qu.:44.00 | 3rd Qu.:3.000 |\n",
      "| Max.   :1.0000 | Max.   :44.500 | Max.   :64.00 | Max.   :3.000 |\n",
      "\n",
      "Table: Table continues below\n",
      "\n",
      " \n",
      "\n",
      "|  occupation   |     sector     |    married     |\n",
      "|:-------------:|:--------------:|:--------------:|\n",
      "| Min.   :1.000 | Min.   :0.0000 | Min.   :0.0000 |\n",
      "| 1st Qu.:3.000 | 1st Qu.:0.0000 | 1st Qu.:0.0000 |\n",
      "| Median :4.000 | Median :0.0000 | Median :1.0000 |\n",
      "| Mean   :4.148 | Mean   :0.2753 | Mean   :0.6554 |\n",
      "| 3rd Qu.:6.000 | 3rd Qu.:0.0000 | 3rd Qu.:1.0000 |\n",
      "| Max.   :6.000 | Max.   :2.0000 | Max.   :1.0000 |\n",
      "\n"
     ]
    }
   ],
   "source": [
    "#print the 5 number summary for each column\n",
    "pander(summary(wages_df))"
   ]
  },
  {
   "cell_type": "code",
   "execution_count": 9,
   "id": "c206075b",
   "metadata": {},
   "outputs": [
    {
     "data": {
      "text/plain": [
       "   Min. 1st Qu.  Median    Mean 3rd Qu.    Max. \n",
       "  1.000   5.250   7.780   9.024  11.250  44.500 "
      ]
     },
     "metadata": {},
     "output_type": "display_data"
    }
   ],
   "source": [
    "#print the 5 number summary for wages\n",
    "summary(wages_df$wages)"
   ]
  },
  {
   "cell_type": "markdown",
   "id": "d8e34658",
   "metadata": {},
   "source": [
    "## Histograms\n",
    "\n",
    "Generate histograms for:\n",
    "\n",
    "    1. wages\n",
    "    2. natural logarithm of wages\n",
    "    3. education\n",
    "    4. age\n",
    "\n",
    "What do you observe about each of these distributions?"
   ]
  },
  {
   "cell_type": "code",
   "execution_count": 10,
   "id": "b486cb69",
   "metadata": {},
   "outputs": [],
   "source": [
    "#control formatting options for plot width and height\n",
    "options(repr.plot.width=10, repr.plot.height=10)"
   ]
  },
  {
   "cell_type": "markdown",
   "id": "d8ef6b68",
   "metadata": {},
   "source": [
    "__1. Wage__"
   ]
  },
  {
   "cell_type": "code",
   "execution_count": 11,
   "id": "335edac1",
   "metadata": {},
   "outputs": [
    {
     "data": {
      "image/png": "[encoded data removed]",
      "text/plain": [
       "Plot with title “Histogram of wages_df$wages”"
      ]
     },
     "metadata": {
      "image/png": {
       "height": 600,
       "width": 600
      }
     },
     "output_type": "display_data"
    }
   ],
   "source": [
    "#histogram for wage\n",
    "hist(wages_df$wages)"
   ]
  },
  {
   "cell_type": "markdown",
   "id": "7159aa25",
   "metadata": {},
   "source": [
    "__2. Natural log of wages__"
   ]
  },
  {
   "cell_type": "code",
   "execution_count": 12,
   "id": "91c8bef7",
   "metadata": {},
   "outputs": [
    {
     "data": {
      "image/png": "[encoded data removed]",
      "text/plain": [
       "Plot with title “Histogram of log(wages_df$wages)”"
      ]
     },
     "metadata": {
      "image/png": {
       "height": 600,
       "width": 600
      }
     },
     "output_type": "display_data"
    }
   ],
   "source": [
    "#take the log of wages\n",
    "#more on this later\n",
    "hist(log(wages_df$wages))"
   ]
  },
  {
   "cell_type": "markdown",
   "id": "2d882473",
   "metadata": {},
   "source": [
    "__3. Education__"
   ]
  },
  {
   "cell_type": "code",
   "execution_count": 13,
   "id": "eee9b96a",
   "metadata": {},
   "outputs": [
    {
     "data": {
      "image/png": "[encoded data removed]",
      "text/plain": [
       "Plot with title “Histogram of wages_df$education”"
      ]
     },
     "metadata": {
      "image/png": {
       "height": 600,
       "width": 600
      }
     },
     "output_type": "display_data"
    }
   ],
   "source": [
    "#histogram of education\n",
    "hist(wages_df$education)"
   ]
  },
  {
   "cell_type": "markdown",
   "id": "0f54156a",
   "metadata": {},
   "source": [
    "__4. Age__"
   ]
  },
  {
   "cell_type": "code",
   "execution_count": 14,
   "id": "28595f3e",
   "metadata": {},
   "outputs": [
    {
     "data": {
      "image/png": "[encoded data removed]",
      "text/plain": [
       "Plot with title “Histogram of wages_df$age”"
      ]
     },
     "metadata": {
      "image/png": {
       "height": 600,
       "width": 600
      }
     },
     "output_type": "display_data"
    }
   ],
   "source": [
    "#histogram of age\n",
    "hist(wages_df$age)"
   ]
  },
  {
   "cell_type": "markdown",
   "id": "8217fe56",
   "metadata": {},
   "source": [
    "## Part 3: Fit a univariate linear model\n",
    "\n",
    "Now let's run an OLS regression between wages and female.\n",
    "\n",
    "$$\n",
    "explained_i = \\alpha + \\beta \\ explanatory_i + \\epsilon_i\\\\\n",
    "wages_i = \\alpha + \\beta \\ female_i + \\epsilon_i\n",
    "$$"
   ]
  },
  {
   "cell_type": "code",
   "execution_count": 15,
   "id": "bf6156fb",
   "metadata": {},
   "outputs": [
    {
     "data": {
      "text/plain": [
       "\n",
       "Call:\n",
       "lm(formula = wages ~ female, data = wages_df)\n",
       "\n",
       "Residuals:\n",
       "   Min     1Q Median     3Q    Max \n",
       "-8.995 -3.529 -1.072  2.394 36.621 \n",
       "\n",
       "Coefficients:\n",
       "            Estimate Std. Error t value Pr(>|t|)    \n",
       "(Intercept)   9.9949     0.2961   33.75  < 2e-16 ***\n",
       "female       -2.1161     0.4372   -4.84  1.7e-06 ***\n",
       "---\n",
       "Signif. codes:  0 ‘***’ 0.001 ‘**’ 0.01 ‘*’ 0.05 ‘.’ 0.1 ‘ ’ 1\n",
       "\n",
       "Residual standard error: 5.034 on 532 degrees of freedom\n",
       "Multiple R-squared:  0.04218,\tAdjusted R-squared:  0.04038 \n",
       "F-statistic: 23.43 on 1 and 532 DF,  p-value: 1.703e-06\n"
      ]
     },
     "metadata": {},
     "output_type": "display_data"
    }
   ],
   "source": [
    "short_regression <- lm(wages ~ female, data=wages_df)\n",
    "summary(short_regression)"
   ]
  },
  {
   "cell_type": "markdown",
   "id": "24e5c0ae",
   "metadata": {},
   "source": [
    "## Interpretation of coefficients:\n",
    "\n",
    "Let us interpret this regression output. \n",
    "    \n",
    "__Reference:__ [Quick Guide: Interpreting Simple Linear Model Output in R](https://feliperego.github.io/blog/2015/10/23/Interpreting-Model-Output-In-R)"
   ]
  },
  {
   "cell_type": "markdown",
   "id": "073de21e",
   "metadata": {},
   "source": [
    "**How would you interpret this intercept?**"
   ]
  },
  {
   "cell_type": "markdown",
   "id": "7f9dc053",
   "metadata": {},
   "source": [
    "write here"
   ]
  },
  {
   "cell_type": "markdown",
   "id": "74bcd94a",
   "metadata": {},
   "source": [
    "**What is the meaning of the coefficient on `female`?**"
   ]
  },
  {
   "cell_type": "markdown",
   "id": "bd92350b",
   "metadata": {},
   "source": [
    "write here"
   ]
  },
  {
   "cell_type": "markdown",
   "id": "cc6b76cd",
   "metadata": {},
   "source": [
    "**Define the following:**"
   ]
  },
  {
   "cell_type": "markdown",
   "id": "5e6b02f1",
   "metadata": {},
   "source": [
    "**Standard error:** write here\n",
    "\n",
    "**t-statistic:** write here\n",
    "\n",
    "**p-value:** write here"
   ]
  },
  {
   "cell_type": "markdown",
   "id": "a5778340",
   "metadata": {},
   "source": [
    "**Using the p-value, is our `female` variable statistically significant? Can you interpret the coefficient as the \"gender wage gap\"?**"
   ]
  },
  {
   "cell_type": "markdown",
   "id": "02900d25",
   "metadata": {},
   "source": [
    "write here"
   ]
  },
  {
   "cell_type": "markdown",
   "id": "e1d67ef2",
   "metadata": {},
   "source": [
    "# Part 4: Multiple Regression and Omitted Variable Bias\n",
    "\n",
    "Since we also have `unionmember` in our dataset, let us use it. Do you think union membership might be an \"omitted variable\"?\n",
    "\n",
    "**How does our estimate of the \"gender wage gap\" change if we include `unionmember` as an additional variable in the regression?** \n",
    "\n",
    "Let us define the new equation as:\n",
    "\n",
    "$$\n",
    "wages_i = \\alpha + \\beta \\ female_i + \\gamma \\ unionmember_i + \\epsilon_i\n",
    "$$\n",
    "\n",
    "Where $\\gamma \\ unionmember_i$ is defined as the control term.\n",
    "\n",
    "**Note that the control term and the control group are different**"
   ]
  },
  {
   "cell_type": "code",
   "execution_count": 16,
   "id": "7e989c13",
   "metadata": {},
   "outputs": [
    {
     "data": {
      "text/plain": [
       "\n",
       "Call:\n",
       "lm(formula = wages ~ female + unionmember, data = wages_df)\n",
       "\n",
       "Residuals:\n",
       "   Min     1Q Median     3Q    Max \n",
       "-8.577 -3.426 -1.353  2.324 36.824 \n",
       "\n",
       "Coefficients:\n",
       "            Estimate Std. Error t value Pr(>|t|)    \n",
       "(Intercept)   9.5772     0.3229  29.661  < 2e-16 ***\n",
       "female       -1.9012     0.4391  -4.330 1.79e-05 ***\n",
       "unionmember   1.7755     0.5698   3.116  0.00193 ** \n",
       "---\n",
       "Signif. codes:  0 ‘***’ 0.001 ‘**’ 0.01 ‘*’ 0.05 ‘.’ 0.1 ‘ ’ 1\n",
       "\n",
       "Residual standard error: 4.994 on 531 degrees of freedom\n",
       "Multiple R-squared:  0.05938,\tAdjusted R-squared:  0.05583 \n",
       "F-statistic: 16.76 on 2 and 531 DF,  p-value: 8.749e-08\n"
      ]
     },
     "metadata": {},
     "output_type": "display_data"
    }
   ],
   "source": [
    "full_regression = lm(wages ~ female + unionmember, data=wages_df)\n",
    "summary(full_regression)"
   ]
  },
  {
   "cell_type": "markdown",
   "id": "283eafac",
   "metadata": {},
   "source": [
    "## Interpretation of coefficients:\n",
    "\n",
    "Let us interpret the full regression output. \n",
    "\n",
    "1. **What is the meaning of the intercept?**\n",
    "\n",
    "    The intercept is always the 'conditional mean': The expected value of the outcome variable, conditional on all other variables being zero. Here, it is simply the average wage for males (female=0) when they are not union members.\n",
    "    \n",
    "\n",
    "2. **What is the meaning of the coefficient on `female`?**\n",
    "\n",
    "    Female workers earn on average \\\\$1.90 per hour less than males when they are both union members.\n",
    "    \n",
    "\n",
    "3. **What is the meaning of the coefficient on `unionmember`?**\n",
    "\n",
    "    The hourly wage is \\\\$1.77 higher for union workers with the same observed values of the other variables. \n"
   ]
  },
  {
   "cell_type": "markdown",
   "id": "86a54b44",
   "metadata": {},
   "source": [
    "## The OVB formula\n",
    "\n",
    "Call the simple observational model the <b>short regression</b>\n",
    "\n",
    "$$\n",
    "wages_i = \\alpha^s + \\beta^s \\ female_i + \\epsilon^s_i\n",
    "$$\n",
    "\n",
    "while the model with union membership $\\gamma$ (when $unionmember_i = 1$) will be the <b>long regression</b> because it includes one more right-hand side variable\n",
    "\n",
    "$$\n",
    "wages_i = \\alpha^l + \\beta^l \\ female_i + \\gamma \\ unionmember_i + \\epsilon^l_i\n",
    "$$\n",
    "\n",
    "We can formally define omitted variable bias as the difference between these two estimates of the \"effect\" of $female_i$ on $wages_i$: \n",
    "\n",
    "$$\n",
    "OVB = \\beta^s - \\beta^l\n",
    "$$\n",
    "\n",
    "To decompose $OVB = \\beta^s - \\beta^l$ into parts that are conceptually easier to think about, we need a third regression, often called an <b>auxiliary regression</b>, which models the relationship between the omitted variable, $unionmemebr_i$, and the treatment variable, $female_i$. The auxiliary regression here is:\n",
    "\n",
    "$$\n",
    "unionmember_i = \\pi_0 + \\pi_1 \\ female_i + u_i\n",
    "$$\n",
    "\n",
    "If this is the case, then the omitted variable bias in the short regression must be given by:\n",
    "\n",
    "$$\n",
    "OVB = \\beta^s - \\beta^l = \\pi_1 \\times \\gamma\n",
    "$$\n",
    "\n",
    "The above relation is __ALWAYS__ true.\n",
    "\n",
    "We saw above that our estimate of the gender wage gap has become smaller once we control for union membership. \n",
    "\n",
    "\n",
    "To formally investigate how the estimate for one coefficient changes if we include more variables in the regression, let's revisit the three relevant regression equations.\n",
    "\n",
    "* 1: __Full regression:__ Include female and unionmember\n",
    "* 2: __Short (biased) regression:__ Include female only\n",
    "* 3: __Auxiliary regression:__ Regress unionmember on female"
   ]
  },
  {
   "cell_type": "markdown",
   "id": "efee9232",
   "metadata": {},
   "source": [
    "**What is the biased quantitative estimate of `female`?**"
   ]
  },
  {
   "cell_type": "markdown",
   "id": "485f477c",
   "metadata": {},
   "source": [
    "biased_coefficient = \n",
    "biased_coefficient"
   ]
  },
  {
   "cell_type": "markdown",
   "id": "a5dbe19a",
   "metadata": {},
   "source": [
    "**What is the quantitative estimate of the omitted variable `unionmember`?**"
   ]
  },
  {
   "cell_type": "code",
   "execution_count": null,
   "id": "879cdaa3",
   "metadata": {},
   "outputs": [],
   "source": [
    "omitted_coefficient = \n",
    "omitted_coefficient"
   ]
  },
  {
   "cell_type": "markdown",
   "id": "131d4cb8",
   "metadata": {},
   "source": [
    "**What is the true quantitative estimate of `female`?**"
   ]
  },
  {
   "cell_type": "code",
   "execution_count": null,
   "id": "e1293e83",
   "metadata": {},
   "outputs": [],
   "source": [
    "true_coefficient = \n",
    "true_coefficient"
   ]
  },
  {
   "cell_type": "code",
   "execution_count": 17,
   "id": "075c4107",
   "metadata": {},
   "outputs": [
    {
     "data": {
      "text/plain": [
       "\n",
       "Call:\n",
       "lm(formula = unionmember ~ female, data = wages_df)\n",
       "\n",
       "Residuals:\n",
       "    Min      1Q  Median      3Q     Max \n",
       "-0.2353 -0.2353 -0.1143 -0.1143  0.8857 \n",
       "\n",
       "Coefficients:\n",
       "            Estimate Std. Error t value Pr(>|t|)    \n",
       "(Intercept)  0.23529    0.02235  10.528  < 2e-16 ***\n",
       "female      -0.12101    0.03300  -3.667  0.00027 ***\n",
       "---\n",
       "Signif. codes:  0 ‘***’ 0.001 ‘**’ 0.01 ‘*’ 0.05 ‘.’ 0.1 ‘ ’ 1\n",
       "\n",
       "Residual standard error: 0.3799 on 532 degrees of freedom\n",
       "Multiple R-squared:  0.02466,\tAdjusted R-squared:  0.02282 \n",
       "F-statistic: 13.45 on 1 and 532 DF,  p-value: 0.0002697\n"
      ]
     },
     "metadata": {},
     "output_type": "display_data"
    }
   ],
   "source": [
    "auxiliary_regression =lm(unionmember ~ female, data=wages_df)\n",
    "summary(auxiliary_regression)"
   ]
  },
  {
   "cell_type": "markdown",
   "id": "370d7c9a",
   "metadata": {},
   "source": [
    "**What is the quantitative estimate of `female` in the auxillary regression?**"
   ]
  },
  {
   "cell_type": "code",
   "execution_count": null,
   "id": "fe10e493",
   "metadata": {},
   "outputs": [],
   "source": [
    "auxillary_coefficient = \n",
    "auxillary_coefficient"
   ]
  },
  {
   "cell_type": "markdown",
   "id": "cf3680d9",
   "metadata": {},
   "source": [
    "**Recall the equation to computer omitted variable bias. Now, looking at all our regression tables, calculate the quantitative estimate of the omitted variable bias?**"
   ]
  },
  {
   "cell_type": "code",
   "execution_count": null,
   "id": "a6ce90f5",
   "metadata": {},
   "outputs": [],
   "source": [
    "omitted_variable_bias = \n",
    "omitted_variable_bias"
   ]
  },
  {
   "cell_type": "markdown",
   "id": "d9ef18e0",
   "metadata": {},
   "source": [
    "# Part 5: Control for more variables\n",
    "\n",
    "Your turn!\n",
    "\n",
    "1. Fit a linear model to explore how hourly wages depend on education, work experience, union membership, region, and sex.\n",
    "\n",
    "2. Describe the net effects of education, work experience, union membership, and region on wages.\n",
    "\n",
    "3. Describe the gender gap after adjusting for the effects of the other variables in the model, and test its significance."
   ]
  },
  {
   "cell_type": "code",
   "execution_count": null,
   "id": "57761888",
   "metadata": {},
   "outputs": [],
   "source": []
  },
  {
   "cell_type": "markdown",
   "id": "83ff3e8c",
   "metadata": {},
   "source": [
    "# Part 6: What if we wanted to control for occupation\n",
    "\n",
    "1. What type of variable is occupation?\n",
    "\n",
    "2. What would happen if we use it directly in `lm()`?"
   ]
  },
  {
   "cell_type": "code",
   "execution_count": 18,
   "id": "442bb7a0",
   "metadata": {},
   "outputs": [],
   "source": [
    "#recode variables\n",
    "wages_df$occup_management <- ifelse(wages_df$occupation == 1, 1, 0)"
   ]
  },
  {
   "cell_type": "markdown",
   "id": "86e9e0c5",
   "metadata": {},
   "source": [
    "# Bonus: Using `stargazer` to present regression outputs as a table\n",
    "\n",
    "Reference: [stargazer](https://cran.r-project.org/web/packages/stargazer/vignettes/stargazer.pdf)"
   ]
  },
  {
   "cell_type": "code",
   "execution_count": 19,
   "id": "06668503",
   "metadata": {},
   "outputs": [
    {
     "name": "stdout",
     "output_type": "stream",
     "text": [
      "\n",
      "Gender Wage Gap\n",
      "===================================================================\n",
      "                                  Dependent variable:              \n",
      "                    -----------------------------------------------\n",
      "                                         wages                     \n",
      "                              (1)                     (2)          \n",
      "-------------------------------------------------------------------\n",
      "female                     -2.116***               -1.901***       \n",
      "                            (0.437)                 (0.439)        \n",
      "                                                                   \n",
      "unionmember                                        1.775***        \n",
      "                                                    (0.570)        \n",
      "                                                                   \n",
      "Constant                   9.995***                9.577***        \n",
      "                            (0.296)                 (0.323)        \n",
      "                                                                   \n",
      "-------------------------------------------------------------------\n",
      "Observations                  534                     534          \n",
      "R2                           0.042                   0.059         \n",
      "Adjusted R2                  0.040                   0.056         \n",
      "Residual Std. Error    5.034 (df = 532)        4.994 (df = 531)    \n",
      "F Statistic         23.426*** (df = 1; 532) 16.759*** (df = 2; 531)\n",
      "===================================================================\n",
      "Note:                                   *p<0.1; **p<0.05; ***p<0.01\n"
     ]
    }
   ],
   "source": [
    "stargazer(short_regression, full_regression, type = \"text\", title = \"Gender Wage Gap\")"
   ]
  },
  {
   "cell_type": "code",
   "execution_count": null,
   "id": "1ca2ee45",
   "metadata": {},
   "outputs": [],
   "source": []
  }
 ],
 "metadata": {
  "kernelspec": {
   "display_name": "R",
   "language": "R",
   "name": "ir"
  },
  "language_info": {
   "codemirror_mode": "r",
   "file_extension": ".r",
   "mimetype": "text/x-r-source",
   "name": "R",
   "pygments_lexer": "r",
   "version": "4.2.1"
  }
 },
 "nbformat": 4,
 "nbformat_minor": 5
}
