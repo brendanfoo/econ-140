{
 "cells": [
  {
   "cell_type": "markdown",
   "id": "46e33d4d",
   "metadata": {},
   "source": [
    "For this problem we will use the dataset wages.csv. This dataset contains information on about 300 American workers. \n",
    "It includes their average monthly wage (wage), gender (male) and completed years of formal education (educ). \n",
    "You suspect that people with higher educational attainment earn more on average."
   ]
  },
  {
   "cell_type": "code",
   "execution_count": 1,
   "id": "eb864fbe",
   "metadata": {},
   "outputs": [
    {
     "name": "stderr",
     "output_type": "stream",
     "text": [
      "── \u001b[1mAttaching packages\u001b[22m ─────────────────────────────────────── tidyverse 1.3.0 ──\n",
      "\n",
      "\u001b[32m✔\u001b[39m \u001b[34mggplot2\u001b[39m 3.3.6     \u001b[32m✔\u001b[39m \u001b[34mpurrr  \u001b[39m 0.3.4\n",
      "\u001b[32m✔\u001b[39m \u001b[34mtibble \u001b[39m 3.1.8     \u001b[32m✔\u001b[39m \u001b[34mdplyr  \u001b[39m 1.0.9\n",
      "\u001b[32m✔\u001b[39m \u001b[34mtidyr  \u001b[39m 1.2.0     \u001b[32m✔\u001b[39m \u001b[34mstringr\u001b[39m 1.4.1\n",
      "\u001b[32m✔\u001b[39m \u001b[34mreadr  \u001b[39m 2.1.2     \u001b[32m✔\u001b[39m \u001b[34mforcats\u001b[39m 0.5.2\n",
      "\n",
      "── \u001b[1mConflicts\u001b[22m ────────────────────────────────────────── tidyverse_conflicts() ──\n",
      "\u001b[31m✖\u001b[39m \u001b[34mdplyr\u001b[39m::\u001b[32mfilter()\u001b[39m masks \u001b[34mstats\u001b[39m::filter()\n",
      "\u001b[31m✖\u001b[39m \u001b[34mdplyr\u001b[39m::\u001b[32mlag()\u001b[39m    masks \u001b[34mstats\u001b[39m::lag()\n",
      "\n"
     ]
    },
    {
     "data": {
      "text/html": [
       "<table class=\"dataframe\">\n",
       "<caption>A data.frame: 6 × 3</caption>\n",
       "<thead>\n",
       "\t<tr><th></th><th scope=col>male</th><th scope=col>wage</th><th scope=col>educ</th></tr>\n",
       "\t<tr><th></th><th scope=col>&lt;dbl&gt;</th><th scope=col>&lt;dbl&gt;</th><th scope=col>&lt;dbl&gt;</th></tr>\n",
       "</thead>\n",
       "<tbody>\n",
       "\t<tr><th scope=row>1</th><td>1</td><td>3284.233</td><td>12</td></tr>\n",
       "\t<tr><th scope=row>2</th><td>1</td><td>2994.763</td><td>12</td></tr>\n",
       "\t<tr><th scope=row>3</th><td>0</td><td>2078.706</td><td> 9</td></tr>\n",
       "\t<tr><th scope=row>4</th><td>0</td><td>1679.675</td><td> 5</td></tr>\n",
       "\t<tr><th scope=row>5</th><td>1</td><td>2633.824</td><td> 6</td></tr>\n",
       "\t<tr><th scope=row>6</th><td>0</td><td>1108.678</td><td> 5</td></tr>\n",
       "</tbody>\n",
       "</table>\n"
      ],
      "text/latex": [
       "A data.frame: 6 × 3\n",
       "\\begin{tabular}{r|lll}\n",
       "  & male & wage & educ\\\\\n",
       "  & <dbl> & <dbl> & <dbl>\\\\\n",
       "\\hline\n",
       "\t1 & 1 & 3284.233 & 12\\\\\n",
       "\t2 & 1 & 2994.763 & 12\\\\\n",
       "\t3 & 0 & 2078.706 &  9\\\\\n",
       "\t4 & 0 & 1679.675 &  5\\\\\n",
       "\t5 & 1 & 2633.824 &  6\\\\\n",
       "\t6 & 0 & 1108.678 &  5\\\\\n",
       "\\end{tabular}\n"
      ],
      "text/markdown": [
       "\n",
       "A data.frame: 6 × 3\n",
       "\n",
       "| <!--/--> | male &lt;dbl&gt; | wage &lt;dbl&gt; | educ &lt;dbl&gt; |\n",
       "|---|---|---|---|\n",
       "| 1 | 1 | 3284.233 | 12 |\n",
       "| 2 | 1 | 2994.763 | 12 |\n",
       "| 3 | 0 | 2078.706 |  9 |\n",
       "| 4 | 0 | 1679.675 |  5 |\n",
       "| 5 | 1 | 2633.824 |  6 |\n",
       "| 6 | 0 | 1108.678 |  5 |\n",
       "\n"
      ],
      "text/plain": [
       "  male wage     educ\n",
       "1 1    3284.233 12  \n",
       "2 1    2994.763 12  \n",
       "3 0    2078.706  9  \n",
       "4 0    1679.675  5  \n",
       "5 1    2633.824  6  \n",
       "6 0    1108.678  5  "
      ]
     },
     "metadata": {},
     "output_type": "display_data"
    }
   ],
   "source": [
    "library(tidyverse)\n",
    "library(haven)\n",
    "library(ggplot2)\n",
    "\n",
    "# read the dataset\n",
    "data<-read.csv(\"https://raw.githubusercontent.com/ds-modules/ECON-140-FA22-RDE/main/Sections/103-Daniela/wages.csv\")\n",
    "head(data)"
   ]
  },
  {
   "cell_type": "markdown",
   "id": "c68737b3",
   "metadata": {},
   "source": [
    "What is the proportion of males?"
   ]
  },
  {
   "cell_type": "code",
   "execution_count": 4,
   "id": "6de84f6d",
   "metadata": {},
   "outputs": [],
   "source": [
    "male_proportion = \n",
    "male_proportion"
   ]
  },
  {
   "cell_type": "markdown",
   "id": "e2db2f30",
   "metadata": {},
   "source": [
    "We want to build more intuition of the dataset we are dealing with. Let's graph education as x and wage as y! Use ggplot in the box below to complete it."
   ]
  },
  {
   "cell_type": "code",
   "execution_count": null,
   "id": "ebea2e4b",
   "metadata": {},
   "outputs": [],
   "source": [
    "ggplot(...)"
   ]
  },
  {
   "cell_type": "markdown",
   "id": "87add99e",
   "metadata": {},
   "source": [
    "After having taken a look at the data, we come up with the following regression equation:\n",
    "\n",
    "$$\n",
    "wage_i = \\alpha + \\beta \\ male_i + \\gamma \\ educ_i + \\epsilon_i\n",
    "$$\n",
    "\n",
    "Now, let's run some regression.\n",
    "\n",
    "Below, run a linear regression that regresses wage on gender."
   ]
  },
  {
   "cell_type": "code",
   "execution_count": null,
   "id": "23480aaf",
   "metadata": {},
   "outputs": [],
   "source": [
    "wage_male <- "
   ]
  },
  {
   "cell_type": "markdown",
   "id": "1b63193a",
   "metadata": {},
   "source": [
    "Based on your linear regression, what is the quantitative effect of male on wages?"
   ]
  },
  {
   "cell_type": "code",
   "execution_count": null,
   "id": "ee9a67d9",
   "metadata": {},
   "outputs": [],
   "source": [
    "male_estimate = "
   ]
  },
  {
   "cell_type": "markdown",
   "id": "5fec8cb2",
   "metadata": {},
   "source": [
    "How would you interpret this coefficient estimate of male?"
   ]
  },
  {
   "cell_type": "markdown",
   "id": "150b5243",
   "metadata": {},
   "source": [
    "Write here"
   ]
  },
  {
   "cell_type": "markdown",
   "id": "05e1283d",
   "metadata": {},
   "source": [
    "Is the male variable statistically significant?"
   ]
  },
  {
   "cell_type": "markdown",
   "id": "86a4e753",
   "metadata": {},
   "source": [
    "Write here"
   ]
  },
  {
   "cell_type": "markdown",
   "id": "0682ea1c",
   "metadata": {},
   "source": [
    "Now, run a linear regression that regresses wage on education."
   ]
  },
  {
   "cell_type": "code",
   "execution_count": null,
   "id": "432ea0ca",
   "metadata": {},
   "outputs": [],
   "source": [
    "wage_educ <- "
   ]
  },
  {
   "cell_type": "markdown",
   "id": "671f7034",
   "metadata": {},
   "source": [
    "Based on your linear regression, what is the quantitative effect of education on wages?"
   ]
  },
  {
   "cell_type": "code",
   "execution_count": null,
   "id": "efae4fdd",
   "metadata": {},
   "outputs": [],
   "source": [
    "educ_estimate = "
   ]
  },
  {
   "cell_type": "markdown",
   "id": "73317341",
   "metadata": {},
   "source": [
    "How would you interpret this coefficient estimate of education?"
   ]
  },
  {
   "cell_type": "markdown",
   "id": "27815c77",
   "metadata": {},
   "source": [
    "Write here"
   ]
  },
  {
   "cell_type": "markdown",
   "id": "3c0d792c",
   "metadata": {},
   "source": [
    "Is the education variable statistically significant?"
   ]
  },
  {
   "cell_type": "markdown",
   "id": "0c95d881",
   "metadata": {},
   "source": [
    "Write here"
   ]
  },
  {
   "cell_type": "markdown",
   "id": "6f49326e",
   "metadata": {},
   "source": [
    "# Congratulations! You have mastered simple regression."
   ]
  },
  {
   "cell_type": "markdown",
   "id": "c98023e6",
   "metadata": {},
   "source": [
    "So far, we have only look at simple linear regressions. Now let's go further and tackle multivariate regression. You probably have already seen this during lecture. But now, let's take it to practice. Run a regression model that regresses wages on both male and education."
   ]
  },
  {
   "cell_type": "code",
   "execution_count": null,
   "id": "73f59aeb",
   "metadata": {},
   "outputs": [],
   "source": [
    "reg <- "
   ]
  },
  {
   "cell_type": "markdown",
   "id": "514bdb2d",
   "metadata": {},
   "source": [
    "You may have noticed that the coefficient estimates for the multivariate regression are different than your linear regression models. Why do you think that is the case?"
   ]
  },
  {
   "cell_type": "markdown",
   "id": "f9053d80",
   "metadata": {},
   "source": [
    "Write here"
   ]
  },
  {
   "cell_type": "markdown",
   "id": "187086cb",
   "metadata": {},
   "source": [
    "If you are still a little bit confused. No worries. Just run a bit more tests to see what's happening!"
   ]
  },
  {
   "cell_type": "code",
   "execution_count": null,
   "id": "bbfaddbc",
   "metadata": {},
   "outputs": [],
   "source": [
    "ggplot(data = data, aes(x=male, y=educ))+geom_point()+geom_smooth(method=\"lm\")"
   ]
  },
  {
   "cell_type": "code",
   "execution_count": null,
   "id": "fe87b9d5",
   "metadata": {},
   "outputs": [],
   "source": [
    "male_educ <- lm(male ~ educ, data)\n",
    "summary(male_educ)"
   ]
  },
  {
   "cell_type": "code",
   "execution_count": null,
   "id": "6fcc7a3f",
   "metadata": {},
   "outputs": [],
   "source": []
  },
  {
   "cell_type": "code",
   "execution_count": null,
   "id": "11f20223",
   "metadata": {},
   "outputs": [],
   "source": []
  }
 ],
 "metadata": {
  "kernelspec": {
   "display_name": "R",
   "language": "R",
   "name": "ir"
  },
  "language_info": {
   "codemirror_mode": "r",
   "file_extension": ".r",
   "mimetype": "text/x-r-source",
   "name": "R",
   "pygments_lexer": "r",
   "version": "4.2.1"
  }
 },
 "nbformat": 4,
 "nbformat_minor": 5
}
