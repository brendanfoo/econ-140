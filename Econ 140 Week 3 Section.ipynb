{
 "cells": [
  {
   "cell_type": "markdown",
   "id": "46e33d4d",
   "metadata": {},
   "source": [
    "# Econ 140 Week 3 Section Worksheet"
   ]
  },
  {
   "cell_type": "markdown",
   "id": "76deb45c",
   "metadata": {},
   "source": [
    "You are a college student attending UC Berkeley. You are almost done with your academic career but you begin to question if all your hard work in earning As in your classes and attending a top university will have some impact on your future and your income. Should you have just left school early to start work as soon as possible? \n",
    "\n",
    "In the box that has `write here`, propose a research design that includes a data collection methodology to help answer your research question on the effects educational attainment has on your wage. Consider what features you want to observe and analyze. Can you employ Randomized Controlled Trials in this context? If yes, please specify which elements are randomized. If no, please explain why not."
   ]
  },
  {
   "cell_type": "markdown",
   "id": "2c9d8009",
   "metadata": {},
   "source": [
    "write here"
   ]
  },
  {
   "cell_type": "markdown",
   "id": "b91e5ed9",
   "metadata": {},
   "source": [
    "# Analyzing Educational Attainment and Wages"
   ]
  },
  {
   "cell_type": "markdown",
   "id": "e47c0aaa",
   "metadata": {},
   "source": [
    "For this worksheet we will use the dataset `wages.csv`. This dataset contains information on about 300 American workers. It includes their average monthly wage (wage), gender (male) and completed years of formal education (educ). \n",
    "You suspect that people with higher educational attainment earn more on average. If your library package isn't working, just write `install.packages('packagename')` and `library(packagename)`."
   ]
  },
  {
   "cell_type": "code",
   "execution_count": null,
   "id": "85b61cde",
   "metadata": {},
   "outputs": [],
   "source": [
    "library(tidyverse)\n",
    "library(haven)\n",
    "install.packages('estimatr')\n",
    "library(estimatr)\n",
    "\n",
    "# read the dataset\n",
    "data<-read.csv(\"https://raw.githubusercontent.com/brendanfoo/econ-140/main/wages.csv\")\n",
    "head(data)"
   ]
  },
  {
   "cell_type": "markdown",
   "id": "c68737b3",
   "metadata": {},
   "source": [
    "What is the proportion of males?"
   ]
  },
  {
   "cell_type": "code",
   "execution_count": null,
   "id": "c189aa2d",
   "metadata": {},
   "outputs": [],
   "source": [
    "male_proportion = \n",
    "male_proportion"
   ]
  },
  {
   "cell_type": "markdown",
   "id": "e2db2f30",
   "metadata": {},
   "source": [
    "We want to build more intuition of the dataset we are dealing with. Let's graph education as x and wage as y! Use ggplot in the box below to complete it."
   ]
  },
  {
   "cell_type": "code",
   "execution_count": null,
   "id": "ebea2e4b",
   "metadata": {},
   "outputs": [],
   "source": [
    "ggplot(...)"
   ]
  },
  {
   "cell_type": "markdown",
   "id": "87add99e",
   "metadata": {},
   "source": [
    "After having taken a look at the data, we come up with the following regression equation:\n",
    "\n",
    "$$\n",
    "wage_i = \\alpha + \\beta \\ male_i + \\gamma \\ educ_i + \\epsilon_i\n",
    "$$\n",
    "\n",
    "Now, let's run some regression.\n",
    "\n",
    "Below, run a linear regression that regresses wage on gender using the `lm` function."
   ]
  },
  {
   "cell_type": "code",
   "execution_count": null,
   "id": "23480aaf",
   "metadata": {},
   "outputs": [],
   "source": [
    "wage_male <- "
   ]
  },
  {
   "cell_type": "markdown",
   "id": "1b63193a",
   "metadata": {},
   "source": [
    "Based on your linear regression, what is the quantitative effect of male on wages?"
   ]
  },
  {
   "cell_type": "code",
   "execution_count": null,
   "id": "ee9a67d9",
   "metadata": {},
   "outputs": [],
   "source": [
    "male_estimate = "
   ]
  },
  {
   "cell_type": "markdown",
   "id": "5fec8cb2",
   "metadata": {},
   "source": [
    "How would you interpret this coefficient estimate of male?"
   ]
  },
  {
   "cell_type": "markdown",
   "id": "150b5243",
   "metadata": {},
   "source": [
    "Write here"
   ]
  },
  {
   "cell_type": "markdown",
   "id": "05e1283d",
   "metadata": {},
   "source": [
    "Is the male variable statistically significant?"
   ]
  },
  {
   "cell_type": "markdown",
   "id": "86a4e753",
   "metadata": {},
   "source": [
    "Write here"
   ]
  },
  {
   "cell_type": "markdown",
   "id": "0682ea1c",
   "metadata": {},
   "source": [
    "Now, run a linear regression that regresses wage on education."
   ]
  },
  {
   "cell_type": "code",
   "execution_count": null,
   "id": "432ea0ca",
   "metadata": {},
   "outputs": [],
   "source": [
    "wage_educ <- "
   ]
  },
  {
   "cell_type": "markdown",
   "id": "671f7034",
   "metadata": {},
   "source": [
    "Based on your linear regression, what is the quantitative effect of education on wages?"
   ]
  },
  {
   "cell_type": "code",
   "execution_count": null,
   "id": "efae4fdd",
   "metadata": {},
   "outputs": [],
   "source": [
    "educ_estimate = "
   ]
  },
  {
   "cell_type": "markdown",
   "id": "73317341",
   "metadata": {},
   "source": [
    "How would you interpret this coefficient estimate of education?"
   ]
  },
  {
   "cell_type": "markdown",
   "id": "27815c77",
   "metadata": {},
   "source": [
    "Write here"
   ]
  },
  {
   "cell_type": "markdown",
   "id": "3c0d792c",
   "metadata": {},
   "source": [
    "Is the education variable statistically significant?"
   ]
  },
  {
   "cell_type": "markdown",
   "id": "0c95d881",
   "metadata": {},
   "source": [
    "Write here"
   ]
  },
  {
   "cell_type": "markdown",
   "id": "84d23dd9",
   "metadata": {},
   "source": [
    "Below, run a linear regression that regresses wage on gender using the `lm_robust` function."
   ]
  },
  {
   "cell_type": "code",
   "execution_count": null,
   "id": "ba916006",
   "metadata": {},
   "outputs": [],
   "source": [
    "robust_wage_male <-"
   ]
  },
  {
   "cell_type": "code",
   "execution_count": null,
   "id": "902f5193",
   "metadata": {},
   "outputs": [],
   "source": [
    "robust_wage_educ <-"
   ]
  },
  {
   "cell_type": "markdown",
   "id": "118c07ab",
   "metadata": {},
   "source": [
    "Compare your results from running the `lm_robust` function with your regression results using `lm` function. Do you notice any differences? If yes, why is there a difference? If no, should there be a difference? Why aren't we observing the difference? Should you use `lm` function or `lm_robust` function in your future regressions?"
   ]
  },
  {
   "cell_type": "markdown",
   "id": "a2d345e1",
   "metadata": {},
   "source": [
    "Write here"
   ]
  },
  {
   "cell_type": "markdown",
   "id": "6f49326e",
   "metadata": {},
   "source": [
    "# Congratulations! You have mastered simple regression."
   ]
  },
  {
   "cell_type": "markdown",
   "id": "c98023e6",
   "metadata": {},
   "source": [
    "So far, we have only look at simple linear regressions. Now let's go further and tackle multivariable regression. You probably have already seen this during lecture. But now, let's take it to practice. Run a regression model that regresses wages on both male and education."
   ]
  },
  {
   "cell_type": "code",
   "execution_count": null,
   "id": "73f59aeb",
   "metadata": {},
   "outputs": [],
   "source": [
    "reg <- "
   ]
  },
  {
   "cell_type": "markdown",
   "id": "514bdb2d",
   "metadata": {},
   "source": [
    "You may have noticed that the coefficient estimates for the multivariable regression are different than your linear regression models. Why do you think that is the case?"
   ]
  },
  {
   "cell_type": "markdown",
   "id": "f9053d80",
   "metadata": {},
   "source": [
    "Write here"
   ]
  },
  {
   "cell_type": "markdown",
   "id": "187086cb",
   "metadata": {},
   "source": [
    "If you are still a little bit confused. No worries. Just run a bit more tests to see what's happening!"
   ]
  },
  {
   "cell_type": "code",
   "execution_count": null,
   "id": "bbfaddbc",
   "metadata": {},
   "outputs": [],
   "source": [
    "ggplot(data = data, aes(x=male, y=educ))+geom_point()+geom_smooth(method=\"lm\")"
   ]
  },
  {
   "cell_type": "code",
   "execution_count": null,
   "id": "fe87b9d5",
   "metadata": {},
   "outputs": [],
   "source": [
    "male_educ <- lm(male ~ educ, data)\n",
    "summary(male_educ)"
   ]
  },
  {
   "cell_type": "markdown",
   "id": "12213e3b",
   "metadata": {},
   "source": [
    "Press B to add more cells below this cell. Press D to delete a cell."
   ]
  },
  {
   "cell_type": "code",
   "execution_count": null,
   "id": "11f20223",
   "metadata": {},
   "outputs": [],
   "source": []
  }
 ],
 "metadata": {
  "kernelspec": {
   "display_name": "R",
   "language": "R",
   "name": "ir"
  },
  "language_info": {
   "codemirror_mode": "r",
   "file_extension": ".r",
   "mimetype": "text/x-r-source",
   "name": "R",
   "pygments_lexer": "r",
   "version": "4.3.1"
  }
 },
 "nbformat": 4,
 "nbformat_minor": 5
}
